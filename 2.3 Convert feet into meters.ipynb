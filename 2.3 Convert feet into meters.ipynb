{
 "cells": [
  {
   "cell_type": "markdown",
   "metadata": {},
   "source": [
    "(Convert feet into meters) \n",
    "\n",
    "Write a program that reads a number in feet, converts it\n",
    "to meters, and displays the result. One foot is 0.305 meters."
   ]
  },
  {
   "cell_type": "code",
   "execution_count": 2,
   "metadata": {},
   "outputs": [
    {
     "name": "stdout",
     "output_type": "stream",
     "text": [
      "Enter the total number of feet :16.5\n",
      "16.5 feet is  5.0325 meters\n"
     ]
    }
   ],
   "source": [
    "feet = eval(input(\"Enter the total number of feet :\"))\n",
    "\n",
    "print(feet , \"feet is \" ,feet * 0.305,\"meters\")"
   ]
  }
 ],
 "metadata": {
  "kernelspec": {
   "display_name": "Python 3",
   "language": "python",
   "name": "python3"
  },
  "language_info": {
   "codemirror_mode": {
    "name": "ipython",
    "version": 3
   },
   "file_extension": ".py",
   "mimetype": "text/x-python",
   "name": "python",
   "nbconvert_exporter": "python",
   "pygments_lexer": "ipython3",
   "version": "3.7.6"
  }
 },
 "nbformat": 4,
 "nbformat_minor": 4
}
