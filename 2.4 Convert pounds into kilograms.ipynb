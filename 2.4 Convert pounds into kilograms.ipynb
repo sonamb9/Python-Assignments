{
 "cells": [
  {
   "cell_type": "markdown",
   "metadata": {},
   "source": [
    "(Convert pounds into kilograms) \n",
    "\n",
    "Write a program that converts pounds into\n",
    "kilograms. The program prompts the user to enter a value in pounds, converts it to\n",
    "kilograms, and displays the result. One pound is 0.454 kilograms"
   ]
  },
  {
   "cell_type": "code",
   "execution_count": 1,
   "metadata": {},
   "outputs": [
    {
     "name": "stdout",
     "output_type": "stream",
     "text": [
      "Enter the value in pounds : 55.5\n",
      "55.5 pounds is 25.197 KGs\n"
     ]
    }
   ],
   "source": [
    "pounds = eval(input(\"Enter the value in pounds : \"))\n",
    "\n",
    "print(pounds ,\"pounds is\", pounds * 0.454 , \"KGs\")"
   ]
  },
  {
   "cell_type": "code",
   "execution_count": null,
   "metadata": {},
   "outputs": [],
   "source": []
  }
 ],
 "metadata": {
  "kernelspec": {
   "display_name": "Python 3",
   "language": "python",
   "name": "python3"
  },
  "language_info": {
   "codemirror_mode": {
    "name": "ipython",
    "version": 3
   },
   "file_extension": ".py",
   "mimetype": "text/x-python",
   "name": "python",
   "nbconvert_exporter": "python",
   "pygments_lexer": "ipython3",
   "version": "3.7.6"
  }
 },
 "nbformat": 4,
 "nbformat_minor": 4
}
