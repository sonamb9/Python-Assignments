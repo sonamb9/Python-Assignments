{
 "cells": [
  {
   "cell_type": "markdown",
   "metadata": {},
   "source": [
    "(Financial application: calculate tips) \n",
    "\n",
    "Write a program that reads the subtotal and\n",
    "the gratuity rate and computes the gratuity and total. For example, if the user\n",
    "enters 10 for the subtotal and 15% for the gratuity rate, the program displays 1.5\n",
    "as the gratuity and 11.5 as the total."
   ]
  },
  {
   "cell_type": "code",
   "execution_count": 7,
   "metadata": {},
   "outputs": [
    {
     "name": "stdout",
     "output_type": "stream",
     "text": [
      "Enter the subtotal amount and gratuity rate15.69 , 15\n",
      "The gratuity is  2.35 and total amount is  18.04\n"
     ]
    }
   ],
   "source": [
    "subtotal , gratuity_rate = eval(input(\"Enter the subtotal amount and gratuity rate\"))\n",
    "\n",
    "gratuity = int(gratuity_rate * subtotal) / 100 \n",
    "\n",
    "total = subtotal + gratuity\n",
    "\n",
    "print(\"The gratuity is \",gratuity , \"and total amount is \",total)"
   ]
  }
 ],
 "metadata": {
  "kernelspec": {
   "display_name": "Python 3",
   "language": "python",
   "name": "python3"
  },
  "language_info": {
   "codemirror_mode": {
    "name": "ipython",
    "version": 3
   },
   "file_extension": ".py",
   "mimetype": "text/x-python",
   "name": "python",
   "nbconvert_exporter": "python",
   "pygments_lexer": "ipython3",
   "version": "3.7.6"
  }
 },
 "nbformat": 4,
 "nbformat_minor": 4
}
