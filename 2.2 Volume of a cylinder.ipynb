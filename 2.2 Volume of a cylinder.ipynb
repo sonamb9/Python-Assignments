{
 "cells": [
  {
   "cell_type": "markdown",
   "metadata": {},
   "source": [
    "(Compute the volume of a cylinder) \n",
    "\n",
    "Write a program that reads in the radius and\n",
    "length of a cylinder and computes the area and volume using the following formulas:\n",
    "area = radius * radius * π\n",
    "volume = area * length"
   ]
  },
  {
   "cell_type": "code",
   "execution_count": 5,
   "metadata": {},
   "outputs": [
    {
     "name": "stdout",
     "output_type": "stream",
     "text": [
      "Enter the radius and length of the cylinder : 4 , 3\n",
      "The area is  50.3344 \n",
      "The volume is  151.0032\n"
     ]
    }
   ],
   "source": [
    "PI = 3.1459\n",
    "\n",
    "radius , length = eval(input(\"Enter the radius and length of the cylinder : \"))\n",
    "\n",
    "area = radius * radius * PI\n",
    "volume = area * length\n",
    "\n",
    "print(\"The area is \" , area , \"\\nThe volume is \", volume)"
   ]
  }
 ],
 "metadata": {
  "kernelspec": {
   "display_name": "Python 3",
   "language": "python",
   "name": "python3"
  },
  "language_info": {
   "codemirror_mode": {
    "name": "ipython",
    "version": 3
   },
   "file_extension": ".py",
   "mimetype": "text/x-python",
   "name": "python",
   "nbconvert_exporter": "python",
   "pygments_lexer": "ipython3",
   "version": "3.7.6"
  }
 },
 "nbformat": 4,
 "nbformat_minor": 4
}
