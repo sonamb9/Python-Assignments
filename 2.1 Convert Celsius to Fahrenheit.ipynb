{
 "cells": [
  {
   "cell_type": "markdown",
   "metadata": {},
   "source": [
    "(Convert Celsius to Fahrenheit) \n",
    "\n",
    "Write a program that reads a Celsius degree from\n",
    "the console and converts it to Fahrenheit and displays the result. The formula for\n",
    "the conversion is as follows:\n",
    "fahrenheit = (9 / 5) * celsius + 32"
   ]
  },
  {
   "cell_type": "code",
   "execution_count": 1,
   "metadata": {},
   "outputs": [
    {
     "name": "stdout",
     "output_type": "stream",
     "text": [
      "Enter a degree in Celsius : 43\n",
      "43  Celsius is  109.4 Fahrenheit\n"
     ]
    }
   ],
   "source": [
    "celsius = eval(input(\"Enter a degree in Celsius : \"))\n",
    "\n",
    "fahrenheit = (9 / 5) * celsius + 32\n",
    "\n",
    "print(celsius ,\" Celsius is \" ,fahrenheit , \"Fahrenheit\")"
   ]
  },
  {
   "cell_type": "code",
   "execution_count": null,
   "metadata": {},
   "outputs": [],
   "source": []
  }
 ],
 "metadata": {
  "kernelspec": {
   "display_name": "Python 3",
   "language": "python",
   "name": "python3"
  },
  "language_info": {
   "codemirror_mode": {
    "name": "ipython",
    "version": 3
   },
   "file_extension": ".py",
   "mimetype": "text/x-python",
   "name": "python",
   "nbconvert_exporter": "python",
   "pygments_lexer": "ipython3",
   "version": "3.7.6"
  }
 },
 "nbformat": 4,
 "nbformat_minor": 4
}
